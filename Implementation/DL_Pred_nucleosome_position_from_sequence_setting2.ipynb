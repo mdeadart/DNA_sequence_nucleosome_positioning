{
 "cells": [
  {
   "cell_type": "code",
   "execution_count": 1,
   "metadata": {},
   "outputs": [],
   "source": [
    "import os \n",
    "from Bio import SeqIO\n",
    "import pickle\n",
    "import numpy as np\n",
    "\n",
    "import tensorflow as tf\n",
    "import tensorflow.keras.backend as K\n",
    "\n",
    "from sklearn.metrics import roc_auc_score\n",
    "from sklearn.model_selection import StratifiedKFold\n",
    "from sklearn.metrics import roc_curve, auc, accuracy_score, precision_score, confusion_matrix\n",
    "from sklearn.metrics import roc_auc_score\n",
    "\n",
    "import math"
   ]
  },
  {
   "cell_type": "code",
   "execution_count": 2,
   "metadata": {},
   "outputs": [],
   "source": [
    "##################################################################################\n",
    "##### Define all parameters for model tuning\n",
    "##################################################################################\n",
    "\n",
    "n_fold = 10\n",
    "expName = \"Test_Run_current_setting2\"\n",
    "outPath = \"Generated\"\n",
    "foldName = \"folds.pickle\"\n",
    "\n",
    "modelNames = [\"DLNN_3\", \"DLNN_5\"]\n",
    "\n",
    "epochs=200\n",
    "batch_size = 64\n",
    "shuffle = False\n",
    "seed = None\n",
    "\n",
    "dataset_path = \"CORENup-Datasets\\\\Datasets\"\n",
    "setting = \"Setting2\"\n"
   ]
  },
  {
   "cell_type": "code",
   "execution_count": 3,
   "metadata": {},
   "outputs": [
    {
     "name": "stdout",
     "output_type": "stream",
     "text": [
      "('CORENup-Datasets\\\\Datasets\\\\Setting2', ['Drosophila', 'Homo_Sapiens', 'Yeast'], [])\n"
     ]
    }
   ],
   "source": [
    "##################################################################################\n",
    "##### Checking the directory\n",
    "##################################################################################\n",
    "\n",
    "dataset_setting_path = os.path.join(dataset_path, setting)\n",
    "dataset_varieties = next(os.walk(dataset_setting_path))\n",
    "print(dataset_varieties)"
   ]
  },
  {
   "cell_type": "code",
   "execution_count": 4,
   "metadata": {},
   "outputs": [],
   "source": [
    "##################################################################################\n",
    "##### define custom one hot encoding, contains code from repository\n",
    "##################################################################################\n",
    "\n",
    "def one_hot_encode(sequence):\n",
    "    \n",
    "    seq_encoded = np.zeros((len(sequence),4))\n",
    "    dict_nuc = {\n",
    "        \"A\": 0,\n",
    "        \"C\": 1,\n",
    "        \"G\": 2,\n",
    "        \"T\":3\n",
    "    }\n",
    "    i = 0\n",
    "    \n",
    "    for single_character in sequence:\n",
    "        if(single_character.upper() in dict_nuc.keys()):\n",
    "            seq_encoded[i][dict_nuc[single_character.upper()]] = 1\n",
    "            i = i+1\n",
    "        else:\n",
    "            return []\n",
    "    \n",
    "    return seq_encoded"
   ]
  },
  {
   "cell_type": "code",
   "execution_count": 11,
   "metadata": {},
   "outputs": [],
   "source": [
    "##################################################################################\n",
    "##### Function to customize the DLNN network architecture with parameters\n",
    "##################################################################################\n",
    "\n",
    "def Conv_LSTM_DLNN(input_shape=(150,4), conv_filters_per_layer = 50, kernel_length = 5, lstm_decode_units = 50, \n",
    "                   learn_rate = 0.0003, prob = 0.5, loss = 'binary_crossentropy', metrics = None, max_pool_width = 2, \n",
    "                   max_pool_stride = 2, dense_decode_units = 150):\n",
    "        \n",
    "    beta = 0.001\n",
    "\n",
    "    model = tf.keras.Sequential()\n",
    "\n",
    "    model.add(tf.keras.layers.Conv1D(conv_filters_per_layer, kernel_length, input_shape = input_shape, kernel_regularizer=tf.keras.regularizers.l2(beta), padding=\"same\"))\n",
    "\n",
    "    model.add(tf.keras.layers.MaxPool1D(pool_size = max_pool_width, strides = max_pool_stride))\n",
    "\n",
    "    model.add(tf.keras.layers.Dropout(prob))\n",
    "\n",
    "    model.add(tf.keras.layers.LSTM(lstm_decode_units, return_sequences = True, kernel_regularizer = tf.keras.regularizers.l2(beta), dropout = 0.1))\n",
    "\n",
    "    model.add(tf.keras.layers.Dropout(prob))\n",
    "\n",
    "    model.add(tf.keras .layers.Flatten())\n",
    "\n",
    "    model.add(tf.keras.layers.Dense(dense_decode_units, kernel_regularizer=tf.keras.regularizers.l2(beta), activation='relu'))\n",
    "\n",
    "    model.add(tf.keras.layers.Dropout(prob))\n",
    "\n",
    "    model.add(tf.keras.layers.Dense(1, kernel_regularizer=tf.keras.regularizers.l2(beta), activation='sigmoid'))\n",
    "    \n",
    "    #[tf.keras.metrics.binary_accuracy, metrics.precision, metrics.recall, metrics.f1score])\n",
    "    if(metrics != None):\n",
    "        model.compile(optimizer = tf.keras.optimizers.Adam(lr = learn_rate), loss = loss, metrics = metrics) \n",
    "    else:\n",
    "        model.compile(optimizer = tf.keras.optimizers.Adam(lr = learn_rate), loss = loss)\n",
    "\n",
    "    return model"
   ]
  },
  {
   "cell_type": "code",
   "execution_count": 6,
   "metadata": {},
   "outputs": [],
   "source": [
    "##################################################################################\n",
    "##### define evaluator functions\n",
    "##################################################################################\n",
    "\n",
    "## Build the K-fold from dataset\n",
    "def build_kfold(features, labels, k=10, shuffle=False, seed=None):\n",
    "    \n",
    "    skf = StratifiedKFold(n_splits=k, shuffle=shuffle, random_state=seed)\n",
    "    kfoldList = []\n",
    "    for train_index, test_index in skf.split(features, labels):\n",
    "        X_train, X_test = features[train_index], features[test_index]\n",
    "        y_train, y_test = labels[train_index], labels[test_index]\n",
    "        kfoldList.append({\n",
    "            \"X_train\": X_train,\n",
    "            \"X_test\": X_test,\n",
    "            \"y_train\":y_train,\n",
    "            \"y_test\":y_test\n",
    "        })\n",
    "    return kfoldList\n",
    "\n",
    "def pred2label(y_pred):\n",
    "    y_pred = np.round(np.clip(y_pred, 0, 1))\n",
    "    return y_pred"
   ]
  },
  {
   "cell_type": "code",
   "execution_count": 7,
   "metadata": {},
   "outputs": [
    {
     "name": "stdout",
     "output_type": "stream",
     "text": [
      "\n",
      "======================================================================\n",
      "\n",
      "File: CORENup-Datasets\\Datasets\\Setting2\\Drosophila\\5UTR\\nucleosomes_vs_linkers_drosophila_5u.fas\n",
      "Nucleosomi: 4669\n",
      "Linker: 2704\n",
      "\n",
      "Train/Test model DLNN_3 on Fold #0.\n",
      "\n",
      "Train/Test model DLNN_3 on Fold #1.\n",
      "\n",
      "Train/Test model DLNN_3 on Fold #2.\n",
      "\n",
      "Train/Test model DLNN_3 on Fold #3.\n",
      "\n",
      "Train/Test model DLNN_3 on Fold #4.\n",
      "\n",
      "Train/Test model DLNN_3 on Fold #5.\n",
      "\n",
      "Train/Test model DLNN_3 on Fold #6.\n",
      "\n",
      "Train/Test model DLNN_3 on Fold #7.\n",
      "\n",
      "Train/Test model DLNN_3 on Fold #8.\n",
      "\n",
      "Train/Test model DLNN_3 on Fold #9.\n",
      "\n",
      "Train/Test model DLNN_5 on Fold #0.\n",
      "\n",
      "Train/Test model DLNN_5 on Fold #1.\n",
      "\n",
      "Train/Test model DLNN_5 on Fold #2.\n",
      "\n",
      "Train/Test model DLNN_5 on Fold #3.\n",
      "\n",
      "Train/Test model DLNN_5 on Fold #4.\n",
      "\n",
      "Train/Test model DLNN_5 on Fold #5.\n",
      "\n",
      "Train/Test model DLNN_5 on Fold #6.\n",
      "\n",
      "Train/Test model DLNN_5 on Fold #7.\n",
      "\n",
      "Train/Test model DLNN_5 on Fold #8.\n",
      "\n",
      "Train/Test model DLNN_5 on Fold #9.\n",
      "\n",
      "======================================================================\n",
      "\n",
      "File: CORENup-Datasets\\Datasets\\Setting2\\Drosophila\\Longest_chr\\nucleosomes_vs_linkers_drosophila_lc.fas\n",
      "Nucleosomi: 46054\n",
      "Linker: 30458\n",
      "\n",
      "Train/Test model DLNN_3 on Fold #0.\n",
      "\n",
      "Train/Test model DLNN_3 on Fold #1.\n",
      "\n",
      "Train/Test model DLNN_3 on Fold #2.\n",
      "\n",
      "Train/Test model DLNN_3 on Fold #3.\n",
      "\n",
      "Train/Test model DLNN_3 on Fold #4.\n",
      "\n",
      "Train/Test model DLNN_3 on Fold #5.\n",
      "\n",
      "Train/Test model DLNN_3 on Fold #6.\n",
      "\n",
      "Train/Test model DLNN_3 on Fold #7.\n",
      "\n",
      "Train/Test model DLNN_3 on Fold #8.\n",
      "\n",
      "Train/Test model DLNN_3 on Fold #9.\n",
      "\n",
      "Train/Test model DLNN_5 on Fold #0.\n",
      "\n",
      "Train/Test model DLNN_5 on Fold #1.\n",
      "\n",
      "Train/Test model DLNN_5 on Fold #2.\n",
      "\n",
      "Train/Test model DLNN_5 on Fold #3.\n",
      "\n",
      "Train/Test model DLNN_5 on Fold #4.\n",
      "\n",
      "Train/Test model DLNN_5 on Fold #5.\n",
      "\n",
      "Train/Test model DLNN_5 on Fold #6.\n",
      "\n",
      "Train/Test model DLNN_5 on Fold #7.\n",
      "\n",
      "Train/Test model DLNN_5 on Fold #8.\n",
      "\n",
      "Train/Test model DLNN_5 on Fold #9.\n",
      "\n",
      "======================================================================\n",
      "\n",
      "File: CORENup-Datasets\\Datasets\\Setting2\\Drosophila\\Promoter\\nucleosomes_vs_linkers_drosophila_prom.fas\n",
      "Nucleosomi: 48251\n",
      "Linker: 28762\n",
      "\n",
      "Train/Test model DLNN_3 on Fold #0.\n",
      "\n",
      "Train/Test model DLNN_3 on Fold #1.\n",
      "\n",
      "Train/Test model DLNN_3 on Fold #2.\n",
      "\n",
      "Train/Test model DLNN_3 on Fold #3.\n",
      "\n",
      "Train/Test model DLNN_3 on Fold #4.\n",
      "\n",
      "Train/Test model DLNN_3 on Fold #5.\n",
      "\n",
      "Train/Test model DLNN_3 on Fold #6.\n",
      "\n",
      "Train/Test model DLNN_3 on Fold #7.\n",
      "\n",
      "Train/Test model DLNN_3 on Fold #8.\n",
      "\n",
      "Train/Test model DLNN_3 on Fold #9.\n",
      "\n",
      "Train/Test model DLNN_5 on Fold #0.\n",
      "\n",
      "Train/Test model DLNN_5 on Fold #1.\n",
      "\n",
      "Train/Test model DLNN_5 on Fold #2.\n",
      "\n",
      "Train/Test model DLNN_5 on Fold #3.\n",
      "\n",
      "Train/Test model DLNN_5 on Fold #4.\n",
      "\n",
      "Train/Test model DLNN_5 on Fold #5.\n",
      "\n",
      "Train/Test model DLNN_5 on Fold #6.\n",
      "\n",
      "Train/Test model DLNN_5 on Fold #7.\n",
      "\n",
      "Train/Test model DLNN_5 on Fold #8.\n",
      "\n",
      "Train/Test model DLNN_5 on Fold #9.\n",
      "\n",
      "======================================================================\n",
      "\n",
      "File: CORENup-Datasets\\Datasets\\Setting2\\Homo_Sapiens\\5UTR\\nucleosomes_vs_linkers_human_5u.fas\n",
      "Nucleosomi: 11769\n",
      "Linker: 4880\n",
      "\n",
      "Train/Test model DLNN_3 on Fold #0.\n",
      "\n",
      "Train/Test model DLNN_3 on Fold #1.\n",
      "\n",
      "Train/Test model DLNN_3 on Fold #2.\n",
      "\n",
      "Train/Test model DLNN_3 on Fold #3.\n",
      "\n",
      "Train/Test model DLNN_3 on Fold #4.\n",
      "\n",
      "Train/Test model DLNN_3 on Fold #5.\n",
      "\n",
      "Train/Test model DLNN_3 on Fold #6.\n",
      "\n",
      "Train/Test model DLNN_3 on Fold #7.\n",
      "\n",
      "Train/Test model DLNN_3 on Fold #8.\n",
      "\n",
      "Train/Test model DLNN_3 on Fold #9.\n",
      "\n",
      "Train/Test model DLNN_5 on Fold #0.\n",
      "\n",
      "Train/Test model DLNN_5 on Fold #1.\n",
      "\n",
      "Train/Test model DLNN_5 on Fold #2.\n",
      "\n",
      "Train/Test model DLNN_5 on Fold #3.\n",
      "\n",
      "Train/Test model DLNN_5 on Fold #4.\n",
      "\n",
      "Train/Test model DLNN_5 on Fold #5.\n",
      "\n",
      "Train/Test model DLNN_5 on Fold #6.\n",
      "\n",
      "Train/Test model DLNN_5 on Fold #7.\n",
      "\n",
      "Train/Test model DLNN_5 on Fold #8.\n",
      "\n",
      "Train/Test model DLNN_5 on Fold #9.\n",
      "\n",
      "======================================================================\n",
      "\n",
      "File: CORENup-Datasets\\Datasets\\Setting2\\Homo_Sapiens\\Longest_chr\\nucleosomes_vs_linkers_human_lc.fas\n",
      "Nucleosomi: 97209\n",
      "Linker: 60239\n",
      "\n",
      "Train/Test model DLNN_3 on Fold #0.\n"
     ]
    },
    {
     "name": "stderr",
     "output_type": "stream",
     "text": [
      "C:\\ProgramData\\Anaconda3\\lib\\site-packages\\ipykernel_launcher.py:137: RuntimeWarning: overflow encountered in longlong_scalars\n",
      "C:\\ProgramData\\Anaconda3\\lib\\site-packages\\ipykernel_launcher.py:138: RuntimeWarning: overflow encountered in longlong_scalars\n"
     ]
    },
    {
     "name": "stdout",
     "output_type": "stream",
     "text": [
      "\n",
      "Train/Test model DLNN_3 on Fold #1.\n"
     ]
    },
    {
     "name": "stderr",
     "output_type": "stream",
     "text": [
      "C:\\ProgramData\\Anaconda3\\lib\\site-packages\\ipykernel_launcher.py:137: RuntimeWarning: overflow encountered in longlong_scalars\n",
      "C:\\ProgramData\\Anaconda3\\lib\\site-packages\\ipykernel_launcher.py:138: RuntimeWarning: overflow encountered in longlong_scalars\n"
     ]
    },
    {
     "name": "stdout",
     "output_type": "stream",
     "text": [
      "\n",
      "Train/Test model DLNN_3 on Fold #2.\n"
     ]
    },
    {
     "name": "stderr",
     "output_type": "stream",
     "text": [
      "C:\\ProgramData\\Anaconda3\\lib\\site-packages\\ipykernel_launcher.py:137: RuntimeWarning: overflow encountered in longlong_scalars\n",
      "C:\\ProgramData\\Anaconda3\\lib\\site-packages\\ipykernel_launcher.py:138: RuntimeWarning: overflow encountered in longlong_scalars\n"
     ]
    },
    {
     "name": "stdout",
     "output_type": "stream",
     "text": [
      "\n",
      "Train/Test model DLNN_3 on Fold #3.\n"
     ]
    },
    {
     "name": "stderr",
     "output_type": "stream",
     "text": [
      "C:\\ProgramData\\Anaconda3\\lib\\site-packages\\ipykernel_launcher.py:137: RuntimeWarning: overflow encountered in longlong_scalars\n",
      "C:\\ProgramData\\Anaconda3\\lib\\site-packages\\ipykernel_launcher.py:138: RuntimeWarning: overflow encountered in longlong_scalars\n"
     ]
    },
    {
     "name": "stdout",
     "output_type": "stream",
     "text": [
      "\n",
      "Train/Test model DLNN_3 on Fold #4.\n"
     ]
    },
    {
     "name": "stderr",
     "output_type": "stream",
     "text": [
      "C:\\ProgramData\\Anaconda3\\lib\\site-packages\\ipykernel_launcher.py:137: RuntimeWarning: overflow encountered in longlong_scalars\n",
      "C:\\ProgramData\\Anaconda3\\lib\\site-packages\\ipykernel_launcher.py:138: RuntimeWarning: overflow encountered in longlong_scalars\n"
     ]
    },
    {
     "name": "stdout",
     "output_type": "stream",
     "text": [
      "\n",
      "Train/Test model DLNN_3 on Fold #5.\n"
     ]
    },
    {
     "name": "stderr",
     "output_type": "stream",
     "text": [
      "C:\\ProgramData\\Anaconda3\\lib\\site-packages\\ipykernel_launcher.py:137: RuntimeWarning: overflow encountered in longlong_scalars\n",
      "C:\\ProgramData\\Anaconda3\\lib\\site-packages\\ipykernel_launcher.py:138: RuntimeWarning: overflow encountered in longlong_scalars\n"
     ]
    },
    {
     "name": "stdout",
     "output_type": "stream",
     "text": [
      "\n",
      "Train/Test model DLNN_3 on Fold #6.\n"
     ]
    },
    {
     "name": "stderr",
     "output_type": "stream",
     "text": [
      "C:\\ProgramData\\Anaconda3\\lib\\site-packages\\ipykernel_launcher.py:137: RuntimeWarning: overflow encountered in longlong_scalars\n",
      "C:\\ProgramData\\Anaconda3\\lib\\site-packages\\ipykernel_launcher.py:138: RuntimeWarning: overflow encountered in longlong_scalars\n"
     ]
    },
    {
     "name": "stdout",
     "output_type": "stream",
     "text": [
      "\n",
      "Train/Test model DLNN_3 on Fold #7.\n"
     ]
    },
    {
     "name": "stderr",
     "output_type": "stream",
     "text": [
      "C:\\ProgramData\\Anaconda3\\lib\\site-packages\\ipykernel_launcher.py:137: RuntimeWarning: overflow encountered in longlong_scalars\n",
      "C:\\ProgramData\\Anaconda3\\lib\\site-packages\\ipykernel_launcher.py:138: RuntimeWarning: overflow encountered in longlong_scalars\n"
     ]
    },
    {
     "name": "stdout",
     "output_type": "stream",
     "text": [
      "\n",
      "Train/Test model DLNN_3 on Fold #8.\n"
     ]
    },
    {
     "name": "stderr",
     "output_type": "stream",
     "text": [
      "C:\\ProgramData\\Anaconda3\\lib\\site-packages\\ipykernel_launcher.py:137: RuntimeWarning: overflow encountered in longlong_scalars\n",
      "C:\\ProgramData\\Anaconda3\\lib\\site-packages\\ipykernel_launcher.py:138: RuntimeWarning: overflow encountered in longlong_scalars\n"
     ]
    },
    {
     "name": "stdout",
     "output_type": "stream",
     "text": [
      "\n",
      "Train/Test model DLNN_3 on Fold #9.\n"
     ]
    },
    {
     "name": "stderr",
     "output_type": "stream",
     "text": [
      "C:\\ProgramData\\Anaconda3\\lib\\site-packages\\ipykernel_launcher.py:137: RuntimeWarning: overflow encountered in longlong_scalars\n",
      "C:\\ProgramData\\Anaconda3\\lib\\site-packages\\ipykernel_launcher.py:138: RuntimeWarning: overflow encountered in longlong_scalars\n"
     ]
    },
    {
     "name": "stdout",
     "output_type": "stream",
     "text": [
      "\n",
      "Train/Test model DLNN_5 on Fold #0.\n"
     ]
    },
    {
     "name": "stderr",
     "output_type": "stream",
     "text": [
      "C:\\ProgramData\\Anaconda3\\lib\\site-packages\\ipykernel_launcher.py:137: RuntimeWarning: overflow encountered in longlong_scalars\n",
      "C:\\ProgramData\\Anaconda3\\lib\\site-packages\\ipykernel_launcher.py:138: RuntimeWarning: overflow encountered in longlong_scalars\n"
     ]
    },
    {
     "name": "stdout",
     "output_type": "stream",
     "text": [
      "\n",
      "Train/Test model DLNN_5 on Fold #1.\n"
     ]
    },
    {
     "name": "stderr",
     "output_type": "stream",
     "text": [
      "C:\\ProgramData\\Anaconda3\\lib\\site-packages\\ipykernel_launcher.py:137: RuntimeWarning: overflow encountered in longlong_scalars\n",
      "C:\\ProgramData\\Anaconda3\\lib\\site-packages\\ipykernel_launcher.py:138: RuntimeWarning: overflow encountered in longlong_scalars\n"
     ]
    },
    {
     "name": "stdout",
     "output_type": "stream",
     "text": [
      "\n",
      "Train/Test model DLNN_5 on Fold #2.\n"
     ]
    },
    {
     "name": "stderr",
     "output_type": "stream",
     "text": [
      "C:\\ProgramData\\Anaconda3\\lib\\site-packages\\ipykernel_launcher.py:137: RuntimeWarning: overflow encountered in longlong_scalars\n",
      "C:\\ProgramData\\Anaconda3\\lib\\site-packages\\ipykernel_launcher.py:138: RuntimeWarning: overflow encountered in longlong_scalars\n"
     ]
    },
    {
     "name": "stdout",
     "output_type": "stream",
     "text": [
      "\n",
      "Train/Test model DLNN_5 on Fold #3.\n"
     ]
    },
    {
     "name": "stderr",
     "output_type": "stream",
     "text": [
      "C:\\ProgramData\\Anaconda3\\lib\\site-packages\\ipykernel_launcher.py:137: RuntimeWarning: overflow encountered in longlong_scalars\n",
      "C:\\ProgramData\\Anaconda3\\lib\\site-packages\\ipykernel_launcher.py:138: RuntimeWarning: overflow encountered in longlong_scalars\n"
     ]
    },
    {
     "name": "stdout",
     "output_type": "stream",
     "text": [
      "\n",
      "Train/Test model DLNN_5 on Fold #4.\n"
     ]
    },
    {
     "name": "stderr",
     "output_type": "stream",
     "text": [
      "C:\\ProgramData\\Anaconda3\\lib\\site-packages\\ipykernel_launcher.py:137: RuntimeWarning: overflow encountered in longlong_scalars\n",
      "C:\\ProgramData\\Anaconda3\\lib\\site-packages\\ipykernel_launcher.py:138: RuntimeWarning: overflow encountered in longlong_scalars\n"
     ]
    },
    {
     "name": "stdout",
     "output_type": "stream",
     "text": [
      "\n",
      "Train/Test model DLNN_5 on Fold #5.\n"
     ]
    },
    {
     "name": "stderr",
     "output_type": "stream",
     "text": [
      "C:\\ProgramData\\Anaconda3\\lib\\site-packages\\ipykernel_launcher.py:137: RuntimeWarning: overflow encountered in longlong_scalars\n",
      "C:\\ProgramData\\Anaconda3\\lib\\site-packages\\ipykernel_launcher.py:138: RuntimeWarning: overflow encountered in longlong_scalars\n"
     ]
    },
    {
     "name": "stdout",
     "output_type": "stream",
     "text": [
      "\n",
      "Train/Test model DLNN_5 on Fold #6.\n"
     ]
    },
    {
     "name": "stderr",
     "output_type": "stream",
     "text": [
      "C:\\ProgramData\\Anaconda3\\lib\\site-packages\\ipykernel_launcher.py:137: RuntimeWarning: overflow encountered in longlong_scalars\n",
      "C:\\ProgramData\\Anaconda3\\lib\\site-packages\\ipykernel_launcher.py:138: RuntimeWarning: overflow encountered in longlong_scalars\n"
     ]
    },
    {
     "name": "stdout",
     "output_type": "stream",
     "text": [
      "\n",
      "Train/Test model DLNN_5 on Fold #7.\n"
     ]
    },
    {
     "name": "stderr",
     "output_type": "stream",
     "text": [
      "C:\\ProgramData\\Anaconda3\\lib\\site-packages\\ipykernel_launcher.py:137: RuntimeWarning: overflow encountered in longlong_scalars\n",
      "C:\\ProgramData\\Anaconda3\\lib\\site-packages\\ipykernel_launcher.py:138: RuntimeWarning: overflow encountered in longlong_scalars\n"
     ]
    },
    {
     "name": "stdout",
     "output_type": "stream",
     "text": [
      "\n",
      "Train/Test model DLNN_5 on Fold #8.\n"
     ]
    },
    {
     "name": "stderr",
     "output_type": "stream",
     "text": [
      "C:\\ProgramData\\Anaconda3\\lib\\site-packages\\ipykernel_launcher.py:137: RuntimeWarning: overflow encountered in longlong_scalars\n",
      "C:\\ProgramData\\Anaconda3\\lib\\site-packages\\ipykernel_launcher.py:138: RuntimeWarning: overflow encountered in longlong_scalars\n"
     ]
    },
    {
     "name": "stdout",
     "output_type": "stream",
     "text": [
      "\n",
      "Train/Test model DLNN_5 on Fold #9.\n"
     ]
    },
    {
     "name": "stderr",
     "output_type": "stream",
     "text": [
      "C:\\ProgramData\\Anaconda3\\lib\\site-packages\\ipykernel_launcher.py:137: RuntimeWarning: overflow encountered in longlong_scalars\n",
      "C:\\ProgramData\\Anaconda3\\lib\\site-packages\\ipykernel_launcher.py:138: RuntimeWarning: overflow encountered in longlong_scalars\n"
     ]
    },
    {
     "name": "stdout",
     "output_type": "stream",
     "text": [
      "\n",
      "======================================================================\n",
      "\n",
      "File: CORENup-Datasets\\Datasets\\Setting2\\Homo_Sapiens\\Promoter\\nucleosomes_vs_linkers_human_prom.fas\n",
      "Nucleosomi: 56403\n",
      "Linker: 44441\n",
      "\n",
      "Train/Test model DLNN_3 on Fold #0.\n",
      "\n",
      "Train/Test model DLNN_3 on Fold #1.\n",
      "\n",
      "Train/Test model DLNN_3 on Fold #2.\n",
      "\n",
      "Train/Test model DLNN_3 on Fold #3.\n",
      "\n",
      "Train/Test model DLNN_3 on Fold #4.\n",
      "\n",
      "Train/Test model DLNN_3 on Fold #5.\n",
      "\n",
      "Train/Test model DLNN_3 on Fold #6.\n",
      "\n",
      "Train/Test model DLNN_3 on Fold #7.\n",
      "\n",
      "Train/Test model DLNN_3 on Fold #8.\n",
      "\n",
      "Train/Test model DLNN_3 on Fold #9.\n",
      "\n",
      "Train/Test model DLNN_5 on Fold #0.\n",
      "\n",
      "Train/Test model DLNN_5 on Fold #1.\n",
      "\n",
      "Train/Test model DLNN_5 on Fold #2.\n",
      "\n",
      "Train/Test model DLNN_5 on Fold #3.\n",
      "\n",
      "Train/Test model DLNN_5 on Fold #4.\n",
      "\n",
      "Train/Test model DLNN_5 on Fold #5.\n",
      "\n",
      "Train/Test model DLNN_5 on Fold #6.\n",
      "\n",
      "Train/Test model DLNN_5 on Fold #7.\n",
      "\n",
      "Train/Test model DLNN_5 on Fold #8.\n",
      "\n",
      "Train/Test model DLNN_5 on Fold #9.\n",
      "\n",
      "======================================================================\n",
      "\n",
      "File: CORENup-Datasets\\Datasets\\Setting2\\Yeast\\Promoter\\nucleosomes_vs_linkers_yeast_prom.fas\n",
      "Nucleosomi: 27373\n",
      "Linker: 4463\n",
      "\n",
      "Train/Test model DLNN_3 on Fold #0.\n",
      "\n",
      "Train/Test model DLNN_3 on Fold #1.\n",
      "\n",
      "Train/Test model DLNN_3 on Fold #2.\n",
      "\n",
      "Train/Test model DLNN_3 on Fold #3.\n",
      "\n",
      "Train/Test model DLNN_3 on Fold #4.\n",
      "\n",
      "Train/Test model DLNN_3 on Fold #5.\n",
      "\n",
      "Train/Test model DLNN_3 on Fold #6.\n",
      "\n",
      "Train/Test model DLNN_3 on Fold #7.\n",
      "\n",
      "Train/Test model DLNN_3 on Fold #8.\n",
      "\n",
      "Train/Test model DLNN_3 on Fold #9.\n",
      "\n",
      "Train/Test model DLNN_5 on Fold #0.\n",
      "\n",
      "Train/Test model DLNN_5 on Fold #1.\n",
      "\n",
      "Train/Test model DLNN_5 on Fold #2.\n",
      "\n",
      "Train/Test model DLNN_5 on Fold #3.\n",
      "\n",
      "Train/Test model DLNN_5 on Fold #4.\n",
      "\n",
      "Train/Test model DLNN_5 on Fold #5.\n",
      "\n",
      "Train/Test model DLNN_5 on Fold #6.\n",
      "\n",
      "Train/Test model DLNN_5 on Fold #7.\n",
      "\n",
      "Train/Test model DLNN_5 on Fold #8.\n",
      "\n",
      "Train/Test model DLNN_5 on Fold #9.\n",
      "\n",
      "======================================================================\n",
      "\n",
      "File: CORENup-Datasets\\Datasets\\Setting2\\Yeast\\Whole_genome\\nucleosomes_vs_linkers_yeast_wg.fas\n",
      "Nucleosomi: 39661\n",
      "Linker: 4824\n",
      "\n",
      "Train/Test model DLNN_3 on Fold #0.\n",
      "\n",
      "Train/Test model DLNN_3 on Fold #1.\n",
      "\n",
      "Train/Test model DLNN_3 on Fold #2.\n",
      "\n",
      "Train/Test model DLNN_3 on Fold #3.\n",
      "\n",
      "Train/Test model DLNN_3 on Fold #4.\n",
      "\n",
      "Train/Test model DLNN_3 on Fold #5.\n",
      "\n",
      "Train/Test model DLNN_3 on Fold #6.\n",
      "\n",
      "Train/Test model DLNN_3 on Fold #7.\n",
      "\n",
      "Train/Test model DLNN_3 on Fold #8.\n",
      "\n",
      "Train/Test model DLNN_3 on Fold #9.\n",
      "\n",
      "Train/Test model DLNN_5 on Fold #0.\n",
      "\n",
      "Train/Test model DLNN_5 on Fold #1.\n",
      "\n",
      "Train/Test model DLNN_5 on Fold #2.\n",
      "\n",
      "Train/Test model DLNN_5 on Fold #3.\n",
      "\n",
      "Train/Test model DLNN_5 on Fold #4.\n",
      "\n",
      "Train/Test model DLNN_5 on Fold #5.\n",
      "\n",
      "Train/Test model DLNN_5 on Fold #6.\n",
      "\n",
      "Train/Test model DLNN_5 on Fold #7.\n",
      "\n",
      "Train/Test model DLNN_5 on Fold #8.\n",
      "\n",
      "Train/Test model DLNN_5 on Fold #9.\n"
     ]
    }
   ],
   "source": [
    "##################################################################################\n",
    "##### For each input file, train model and generate different outputs in a structured folder\n",
    "##################################################################################\n",
    "\n",
    "## create the evaluation data structure for all iterations\n",
    "evaluations = {\n",
    "    \"Model\" : [],\n",
    "    \"Kernel_Length\" : [],\n",
    "    \"Dataset\" : [],\n",
    "    \"Sub_Category\" : [],\n",
    "    \"Fold\" : [],\n",
    "    \"Train_Test\" : [],\n",
    "    \"Accuracy\" : [],\n",
    "    \"Precision\": [],\n",
    "    \"TPR\": [],\n",
    "    \"FPR\": [],\n",
    "    \"TPR_FPR_Thresholds\": [],\n",
    "    \"AUC\": [],\n",
    "    \"Sensitivity\": [],\n",
    "    \"Specificity\": [],\n",
    "    \"MCC\":[]\n",
    "}\n",
    "\n",
    "for root, dirs, files in os.walk(dataset_setting_path):\n",
    "    for file in files:\n",
    "        if(\"_vs_\" in file):\n",
    "            \n",
    "            current_dataset_variety = root.split(\"\\\\\")[len(root.split(\"\\\\\"))-2]\n",
    "            current_dataset_variety_subcategory = root.split(\"\\\\\")[len(root.split(\"\\\\\"))-1]\n",
    "            \n",
    "            ##################################################################################\n",
    "            ##### read the current file\n",
    "            ##################################################################################\n",
    "            \n",
    "            openFile = open(os.path.join(root,file))\n",
    "            fastaSequences = SeqIO.parse(openFile, \"fasta\")\n",
    "            \n",
    "            ##################################################################################\n",
    "            ##### extract data from the current fasta file\n",
    "            ##################################################################################\n",
    "            \n",
    "            nucleosomal_List = []\n",
    "            linker_List = []\n",
    "            nucleosomal_onehotencoded_List = []\n",
    "            linker_onehotencoded_List = []\n",
    "            \n",
    "            for fasta in fastaSequences: \n",
    "                name, sequence = fasta.id, str(fasta.seq)\n",
    "                if \"nucleosomal\" in name:\n",
    "                    nucleosomal_List.append(sequence)\n",
    "                    aus_seq = one_hot_encode(sequence)\n",
    "                    if(len(aus_seq) != 0):\n",
    "                        nucleosomal_onehotencoded_List.append(aus_seq)\n",
    "                else:\n",
    "                    linker_List.append(sequence)\n",
    "                    aus_seq = one_hot_encode(sequence)\n",
    "                    if(len(aus_seq) != 0):\n",
    "                        linker_onehotencoded_List.append(aus_seq)\n",
    "            \n",
    "            print(\"\\n======================================================================\")\n",
    "            print(\"\\nFile: \"+os.path.join(root, file))\n",
    "            print(\"Nucleosomi: \"+str(len(nucleosomal_onehotencoded_List)))\n",
    "            print(\"Linker: \"+str(len(linker_onehotencoded_List)))\n",
    "            \n",
    "            ##################################################################################\n",
    "            ##### Generate Folds from dataset, and store to file\n",
    "            ##################################################################################\n",
    "            \n",
    "            ## create the features and labels datasets for the training\n",
    "            input_size = (len(nucleosomal_onehotencoded_List[1]), 4)\n",
    "            labels = np.concatenate((np.ones((len(nucleosomal_onehotencoded_List), 1), dtype=np.float32), np.zeros((len(linker_onehotencoded_List), 1), dtype=np.float32)), axis=0)\n",
    "            features = np.concatenate((nucleosomal_onehotencoded_List,linker_onehotencoded_List), 0)\n",
    "\n",
    "            ## Generate the k-fold dataset\n",
    "            folds = build_kfold(features, labels, k=n_fold, shuffle=shuffle, seed=seed)\n",
    "            \n",
    "            ## Write the k-fold dataset to file\n",
    "            foldPath = os.path.join(outPath, expName, current_dataset_variety, current_dataset_variety_subcategory, \"{}fold\".format(n_fold))\n",
    "            if(not os.path.isdir(foldPath)):\n",
    "                os.makedirs(foldPath)\n",
    "            pickle.dump(folds, open(os.path.join(foldPath, foldName), \"wb\"))\n",
    "            \n",
    "            ##################################################################################\n",
    "            ##### TRAIN and PREDICT for every Fold, using both models (DLNN3 and DLNN5)\n",
    "            ##################################################################################\n",
    "\n",
    "            for modelName in modelNames:\n",
    "\n",
    "                kernel_length = int(modelName[-1])\n",
    "\n",
    "                ## Create and set directory to save model\n",
    "                modelPath = os.path.join(outPath, expName, current_dataset_variety, current_dataset_variety_subcategory, \"{}fold\".format(n_fold), \"models\", modelName)\n",
    "                if(not os.path.isdir(modelPath)):\n",
    "                    os.makedirs(modelPath)\n",
    "\n",
    "                # fold counter\n",
    "                i = 0\n",
    "\n",
    "                for fold in folds:\n",
    "\n",
    "                    print(\"\\nTrain/Test model \"+modelName+\" on Fold #\"+str(i)+\".\")\n",
    "\n",
    "                    ## Generate model using function\n",
    "                    model = Conv_LSTM_DLNN(input_size = input_size, filters = 50, kernel_len = kernel_length, lstm_hidden_size = 50, \n",
    "                                        learn_rate = 0.0003, prob = 0.5, loss='binary_crossentropy', metrics=None)\n",
    "\n",
    "                    ## Define the model callbacks for early stopping and saving the model. Then train model\n",
    "                    modelCallbacks = [\n",
    "                        tf.keras.callbacks.ModelCheckpoint(os.path.join(modelPath, \"{}_bestModel-fold{}.hdf5\".format(modelName, i)),\n",
    "                                                           monitor = 'val_loss', verbose = 0, save_best_only = True, \n",
    "                                                           save_weights_only = False, mode = 'auto', save_freq = 'epoch'),\n",
    "                        tf.keras.callbacks.EarlyStopping(monitor = 'val_loss', min_delta = 0, patience = 5, verbose = 0, \n",
    "                                                         mode = 'auto', baseline = None, restore_best_weights = False)\n",
    "                    ]\n",
    "                    model.fit(x = fold[\"X_train\"], y = fold[\"y_train\"], batch_size = batch_size, epochs = epochs, verbose = 0, \n",
    "                              callbacks = modelCallbacks, validation_data = (fold[\"X_test\"], fold[\"y_test\"]))\n",
    "\n",
    "                    ##################################################################################\n",
    "                    ##### Prediction and metrics for TRAIN dataset\n",
    "                    ##################################################################################\n",
    "\n",
    "                    y_pred = model.predict(fold[\"X_train\"])\n",
    "                    label_pred = pred2label(y_pred)\n",
    "                    # Compute precision, recall, sensitivity, specifity, mcc\n",
    "                    acc = accuracy_score(fold[\"y_train\"], label_pred)\n",
    "                    prec = precision_score(fold[\"y_train\"],label_pred)\n",
    "\n",
    "                    conf = confusion_matrix(fold[\"y_train\"], label_pred)\n",
    "                    if(conf[0][0]+conf[1][0]):\n",
    "                        sens = float(conf[0][0])/float(conf[0][0]+conf[1][0])\n",
    "                    else:\n",
    "                        sens = 0.0\n",
    "                    if(conf[1][1]+conf[0][1]):\n",
    "                        spec = float(conf[1][1])/float(conf[1][1]+conf[0][1])\n",
    "                    else:\n",
    "                        spec = 0.0\n",
    "                    if((conf[0][0]+conf[0][1])*(conf[0][0]+conf[1][0])*(conf[1][1]+conf[0][1])*(conf[1][1]+conf[1][0])):\n",
    "                        mcc = (float(conf[0][0])*float(conf[1][1]) - float(conf[1][0])*float(conf[0][1]))/math.sqrt((conf[0][0]+conf[0][1])*(conf[0][0]+conf[1][0])*(conf[1][1]+conf[0][1])*(conf[1][1]+conf[1][0]))\n",
    "                    else:\n",
    "                        mcc= 0.0\n",
    "                    fpr, tpr, thresholds = roc_curve(fold[\"y_train\"], y_pred)\n",
    "                    auc = roc_auc_score(fold[\"y_train\"], y_pred)\n",
    "\n",
    "                    evaluations[\"Model\"].append(modelName)\n",
    "                    evaluations[\"Kernel_Length\"].append(kernel_length)\n",
    "                    evaluations[\"Dataset\"].append(current_dataset_variety)\n",
    "                    evaluations[\"Sub_Category\"].append(current_dataset_variety_subcategory)\n",
    "                    evaluations[\"Fold\"].append(i)\n",
    "                    evaluations[\"Train_Test\"].append(\"Train\")\n",
    "                    evaluations[\"Accuracy\"].append(acc)\n",
    "                    evaluations[\"Precision\"].append(prec)\n",
    "                    evaluations[\"TPR\"].append(tpr)\n",
    "                    evaluations[\"FPR\"].append(fpr)\n",
    "                    evaluations[\"TPR_FPR_Thresholds\"].append(thresholds)\n",
    "                    evaluations[\"AUC\"].append(auc)\n",
    "                    evaluations[\"Sensitivity\"].append(sens)\n",
    "                    evaluations[\"Specificity\"].append(spec)\n",
    "                    evaluations[\"MCC\"].append(mcc)\n",
    "\n",
    "                    ##################################################################################\n",
    "                    ##### Prediction and metrics for TEST dataset\n",
    "                    ##################################################################################\n",
    "\n",
    "                    y_pred = model.predict(fold[\"X_test\"])\n",
    "                    label_pred = pred2label(y_pred)\n",
    "                    # Compute precision, recall, sensitivity, specifity, mcc\n",
    "                    acc = accuracy_score(fold[\"y_test\"], label_pred)\n",
    "                    prec = precision_score(fold[\"y_test\"],label_pred)\n",
    "\n",
    "                    conf = confusion_matrix(fold[\"y_test\"], label_pred)\n",
    "                    if(conf[0][0]+conf[1][0]):\n",
    "                        sens = float(conf[0][0])/float(conf[0][0]+conf[1][0])\n",
    "                    else:\n",
    "                        sens = 0.0\n",
    "                    if(conf[1][1]+conf[0][1]):\n",
    "                        spec = float(conf[1][1])/float(conf[1][1]+conf[0][1])\n",
    "                    else:\n",
    "                        spec = 0.0\n",
    "                    if((conf[0][0]+conf[0][1])*(conf[0][0]+conf[1][0])*(conf[1][1]+conf[0][1])*(conf[1][1]+conf[1][0])):\n",
    "                        mcc = (float(conf[0][0])*float(conf[1][1]) - float(conf[1][0])*float(conf[0][1]))/math.sqrt((conf[0][0]+conf[0][1])*(conf[0][0]+conf[1][0])*(conf[1][1]+conf[0][1])*(conf[1][1]+conf[1][0]))\n",
    "                    else:\n",
    "                        mcc= 0.0\n",
    "                    fpr, tpr, thresholds = roc_curve(fold[\"y_test\"], y_pred)\n",
    "                    auc = roc_auc_score(fold[\"y_test\"], y_pred)\n",
    "\n",
    "                    evaluations[\"Model\"].append(modelName)\n",
    "                    evaluations[\"Kernel_Length\"].append(kernel_length)\n",
    "                    evaluations[\"Dataset\"].append(current_dataset_variety)\n",
    "                    evaluations[\"Sub_Category\"].append(current_dataset_variety_subcategory)\n",
    "                    evaluations[\"Fold\"].append(i)\n",
    "                    evaluations[\"Train_Test\"].append(\"Test\")\n",
    "                    evaluations[\"Accuracy\"].append(acc)\n",
    "                    evaluations[\"Precision\"].append(prec)\n",
    "                    evaluations[\"TPR\"].append(tpr)\n",
    "                    evaluations[\"FPR\"].append(fpr)\n",
    "                    evaluations[\"TPR_FPR_Thresholds\"].append(thresholds)\n",
    "                    evaluations[\"AUC\"].append(auc)\n",
    "                    evaluations[\"Sensitivity\"].append(sens)\n",
    "                    evaluations[\"Specificity\"].append(spec)\n",
    "                    evaluations[\"MCC\"].append(mcc)\n",
    "\n",
    "                    i = i+1\n",
    "                    del model\n",
    "                    tf.keras.backend.clear_session()\n",
    "\n",
    "##################################################################################\n",
    "##### Dump evaluations to a file\n",
    "##################################################################################\n",
    "\n",
    "evalPath = os.path.join(outPath, expName, \"_Evaluation_All_Datasets\")\n",
    "if(not os.path.isdir(evalPath)):\n",
    "    os.makedirs(evalPath)\n",
    "\n",
    "pickle.dump(evaluations,\n",
    "            open(os.path.join(evalPath, \"{}fold_evaluations.pickle\".format(n_fold)), \"wb\"))\n"
   ]
  },
  {
   "cell_type": "code",
   "execution_count": null,
   "metadata": {},
   "outputs": [],
   "source": []
  },
  {
   "cell_type": "code",
   "execution_count": null,
   "metadata": {},
   "outputs": [],
   "source": []
  },
  {
   "cell_type": "markdown",
   "metadata": {},
   "source": [
    "## Visualization of Evaluation"
   ]
  },
  {
   "cell_type": "code",
   "execution_count": 3,
   "metadata": {},
   "outputs": [],
   "source": [
    "##################################################################################\n",
    "##### Add import statement here, to make this next part of code standalone executable\n",
    "##################################################################################\n",
    "\n",
    "import math\n",
    "import pickle\n",
    "import matplotlib as mpl\n",
    "import matplotlib.pyplot as plt\n",
    "from matplotlib.ticker import ScalarFormatter, FormatStrFormatter\n",
    "import numpy as np\n",
    "import pandas as pd\n"
   ]
  },
  {
   "cell_type": "code",
   "execution_count": 4,
   "metadata": {},
   "outputs": [],
   "source": [
    "##################################################################################\n",
    "##### Parameters used only in this section\n",
    "##################################################################################\n",
    "\n",
    "n_fold = 10\n",
    "expName = \"Test_Run_current_setting2\"\n",
    "outPath = \"Generated\"\n",
    "\n",
    "modelNames = [\"DLNN_3\", \"DLNN_5\"]"
   ]
  },
  {
   "cell_type": "code",
   "execution_count": 5,
   "metadata": {},
   "outputs": [],
   "source": [
    "##################################################################################\n",
    "##### Load file and convert to dataframe for easy manipulation\n",
    "##################################################################################\n",
    "\n",
    "evalPath = os.path.join(outPath, expName, \"_Evaluation_All_Datasets\")\n",
    "if(not os.path.isdir(evalPath)):\n",
    "    os.makedirs(evalPath)\n",
    "\n",
    "evaluations = pickle.load(open(os.path.join(evalPath, \"{}fold_evaluations.pickle\".format(n_fold)), \"rb\"))\n",
    "\n",
    "evaluations_df = pd.DataFrame.from_dict(evaluations)"
   ]
  },
  {
   "cell_type": "code",
   "execution_count": 6,
   "metadata": {},
   "outputs": [],
   "source": [
    "##################################################################################\n",
    "##### Group dataset (mean of metrics) by [Dataset, Model, Train_Test] combinations\n",
    "##################################################################################\n",
    "\n",
    "evaluations_df_grouped = evaluations_df.groupby([\"Dataset\",\n",
    "                                                 \"Sub_Category\",\n",
    "                                                 \"Model\", \n",
    "                                                 \"Train_Test\"]).mean().filter(['Accuracy', \n",
    "                                                                               'Precision', \n",
    "                                                                               'AUC', \n",
    "                                                                               'Sensitivity', \n",
    "                                                                               'Specificity', \n",
    "                                                                               'MCC'])\n",
    "\n",
    "DLNN_3 = evaluations_df_grouped[np.in1d(evaluations_df_grouped.index.get_level_values(2), ['DLNN_3'])]\n",
    "DLNN_5 = evaluations_df_grouped[np.in1d(evaluations_df_grouped.index.get_level_values(2), ['DLNN_5'])]\n",
    "\n",
    "DLNN_3_Train = DLNN_3[np.in1d(DLNN_3.index.get_level_values(3), ['Train'])]\n",
    "DLNN_3_Test = DLNN_3[np.in1d(DLNN_3.index.get_level_values(3), ['Test'])]\n",
    "\n",
    "DLNN_5_Train = DLNN_5[np.in1d(DLNN_5.index.get_level_values(3), ['Train'])]\n",
    "DLNN_5_Test = DLNN_5[np.in1d(DLNN_5.index.get_level_values(3), ['Test'])]"
   ]
  },
  {
   "cell_type": "code",
   "execution_count": 7,
   "metadata": {},
   "outputs": [
    {
     "name": "stdout",
     "output_type": "stream",
     "text": [
      "Metrics Available : \n",
      "['Accuracy', 'Precision', 'AUC', 'Sensitivity', 'Specificity', 'MCC']\n"
     ]
    }
   ],
   "source": [
    "##################################################################################\n",
    "##### Decide on metric to visualize\n",
    "##################################################################################\n",
    "\n",
    "print(\"Metrics Available : \")\n",
    "print(list(evaluations_df_grouped.columns))"
   ]
  },
  {
   "cell_type": "markdown",
   "metadata": {},
   "source": [
    "#### Select a metric to plot below:"
   ]
  },
  {
   "cell_type": "code",
   "execution_count": 8,
   "metadata": {},
   "outputs": [],
   "source": [
    "metric_to_plot = \"Accuracy\""
   ]
  },
  {
   "cell_type": "code",
   "execution_count": 10,
   "metadata": {},
   "outputs": [
    {
     "data": {
      "image/png": "[encoded data removed]",
      "text/plain": [
       "<Figure size 1224x432 with 1 Axes>"
      ]
     },
     "metadata": {
      "needs_background": "light"
     },
     "output_type": "display_data"
    }
   ],
   "source": [
    "##################################################################################\n",
    "##### Visualize with a multiple Bar chart\n",
    "##################################################################################\n",
    "\n",
    "x = np.arange(len(DLNN_3_Train[metric_to_plot]))\n",
    "width = 0.15\n",
    "\n",
    "fig, ax = plt.subplots(figsize=(17,6))\n",
    "rects1 = ax.bar(x - (4*(width/2)), round(DLNN_3_Train[metric_to_plot]*100, 3), width, label='DLNN_3, Train')\n",
    "rects2 = ax.bar(x - (1.5*(width/2)), round(DLNN_5_Train[metric_to_plot]*100, 3), width, label='DLNN_5, Train')\n",
    "rects3 = ax.bar(x + (1.5*(width/2)), round(DLNN_3_Test[metric_to_plot]*100, 3), width, label='DLNN_3, Test')\n",
    "rects4 = ax.bar(x + (4*(width/2)), round(DLNN_5_Test[metric_to_plot]*100, 3), width, label='DLNN_5, Test')\n",
    "\n",
    "## Custom y-axis tick labels\n",
    "ax.set_ylabel(metric_to_plot)\n",
    "ax.set_ylim([(math.floor(min(evaluations_df_grouped[metric_to_plot])*10)-1)*10, \n",
    "            (math.ceil(max(evaluations_df_grouped[metric_to_plot])*10)+1)*10])\n",
    "# ax.set_ylim([80, 105])\n",
    "\n",
    "## Custom x-axis tick labels\n",
    "ax.set_xticks(x)\n",
    "# ax.set_xticklabels(DLNN_3_Train.index.get_level_values(0))\n",
    "ax.set_xticklabels([m+\" - \"+str(n) for m,n in \n",
    "                        zip(DLNN_3_Train.index.get_level_values(0),DLNN_3_Train.index.get_level_values(1))],\n",
    "                  rotation=30)\n",
    "\n",
    "ax.set_title(metric_to_plot+' by Dataset, Model, Train/Test')\n",
    "ax.legend(loc='upper left')\n",
    "\n",
    "def autolabel(rects):\n",
    "    for rect in rects:\n",
    "        height = rect.get_height()\n",
    "        ax.annotate('{}'.format(height),\n",
    "                    xy=(rect.get_x() + rect.get_width() / 2, height),\n",
    "                    xytext=(0, 3),  # 3 points vertical offset\n",
    "                    textcoords=\"offset points\", \n",
    "                    ha='center', va='bottom', rotation=90)\n",
    "\n",
    "autolabel(rects1)\n",
    "autolabel(rects2)\n",
    "autolabel(rects3)\n",
    "autolabel(rects4)\n",
    "\n",
    "plt.show()"
   ]
  },
  {
   "cell_type": "code",
   "execution_count": null,
   "metadata": {},
   "outputs": [],
   "source": []
  },
  {
   "cell_type": "markdown",
   "metadata": {},
   "source": [
    "### Store all metrics' plots to file"
   ]
  },
  {
   "cell_type": "code",
   "execution_count": 143,
   "metadata": {},
   "outputs": [],
   "source": [
    "##################################################################################\n",
    "##### Iteratively generate comparison plot using every metric\n",
    "##################################################################################\n",
    "\n",
    "for metric_to_plot in list(evaluations_df_grouped.columns):\n",
    "    \n",
    "    x = np.arange(len(DLNN_3_Train[metric_to_plot]))\n",
    "    width = 0.15\n",
    "\n",
    "    fig, ax = plt.subplots(figsize=(17,10))\n",
    "    rects1 = ax.bar(x - (4*(width/2)), round(DLNN_3_Train[metric_to_plot]*100, 3), width, label='DLNN_3, Train')\n",
    "    rects2 = ax.bar(x - (1.5*(width/2)), round(DLNN_5_Train[metric_to_plot]*100, 3), width, label='DLNN_5, Train')\n",
    "    rects3 = ax.bar(x + (1.5*(width/2)), round(DLNN_3_Test[metric_to_plot]*100, 3), width, label='DLNN_3, Test')\n",
    "    rects4 = ax.bar(x + (4*(width/2)), round(DLNN_5_Test[metric_to_plot]*100, 3), width, label='DLNN_5, Test')\n",
    "\n",
    "    ## Custom y-axis tick labels\n",
    "    ax.set_ylabel(metric_to_plot)\n",
    "    ax.set_ylim([(math.floor(min(evaluations_df_grouped[metric_to_plot])*10)-1)*10, \n",
    "                (math.ceil(max(evaluations_df_grouped[metric_to_plot])*10)+1)*10])\n",
    "    # ax.set_ylim([80, 105])\n",
    "\n",
    "    ## Custom x-axis tick labels\n",
    "    ax.set_xticks(x)\n",
    "    # ax.set_xticklabels(DLNN_3_Train.index.get_level_values(0))\n",
    "    ax.set_xticklabels([m+\" - \"+str(n) for m,n in \n",
    "                            zip(DLNN_3_Train.index.get_level_values(0),DLNN_3_Train.index.get_level_values(1))],\n",
    "                      rotation=30)\n",
    "\n",
    "    ax.set_title(metric_to_plot+' by Dataset, Model, Train/Test')\n",
    "    ax.legend(loc='upper left')\n",
    "\n",
    "    def autolabel(rects):\n",
    "        for rect in rects:\n",
    "            height = rect.get_height()\n",
    "            ax.annotate('{}'.format(height),\n",
    "                        xy=(rect.get_x() + rect.get_width() / 2, height),\n",
    "                        xytext=(0, 3),  # 3 points vertical offset\n",
    "                        textcoords=\"offset points\", \n",
    "                        ha='center', va='bottom', rotation=90)\n",
    "\n",
    "    autolabel(rects1)\n",
    "    autolabel(rects2)\n",
    "    autolabel(rects3)\n",
    "    autolabel(rects4)\n",
    "    \n",
    "    plt.savefig(os.path.join(evalPath, \"{}_DLNN_Comparison\".format(metric_to_plot)))\n",
    "    plt.close()\n",
    "    "
   ]
  },
  {
   "cell_type": "code",
   "execution_count": null,
   "metadata": {},
   "outputs": [],
   "source": []
  }
 ],
 "metadata": {
  "kernelspec": {
   "display_name": "Python 3",
   "language": "python",
   "name": "python3"
  },
  "language_info": {
   "codemirror_mode": {
    "name": "ipython",
    "version": 3
   },
   "file_extension": ".py",
   "mimetype": "text/x-python",
   "name": "python",
   "nbconvert_exporter": "python",
   "pygments_lexer": "ipython3",
   "version": "3.7.4"
  }
 },
 "nbformat": 4,
 "nbformat_minor": 2
}
