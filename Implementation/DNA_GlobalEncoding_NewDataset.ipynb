{
 "cells": [
  {
   "cell_type": "code",
   "execution_count": 1,
   "metadata": {},
   "outputs": [],
   "source": [
    "import os \n",
    "from Bio import SeqIO\n",
    "import pickle\n",
    "import numpy as np\n",
    "\n",
    "from sklearn.metrics import roc_auc_score\n",
    "from sklearn.model_selection import StratifiedKFold\n",
    "from sklearn.metrics import roc_curve, auc, accuracy_score, precision_score, confusion_matrix\n",
    "from sklearn.metrics import roc_auc_score\n",
    "from sklearn.ensemble import RandomForestClassifier\n",
    "\n",
    "import math\n",
    "\n",
    "import pandas as pd\n",
    "\n",
    "from DNA_Encoding import DNA_Encoding"
   ]
  },
  {
   "cell_type": "code",
   "execution_count": 2,
   "metadata": {},
   "outputs": [],
   "source": [
    "##################################################################################\n",
    "##### Define all parameters for model tuning\n",
    "##################################################################################\n",
    "\n",
    "expName = \"embedReads_NewDataset_DNAGlobalEncoding\"\n",
    "outPath = \"Generated\"\n",
    "\n",
    "modelNames = [\"RandomForest\"]\n",
    "\n",
    "shuffle = False\n",
    "seed = None\n",
    "\n",
    "dataset_path = \"New_Dataset\"\n",
    "setting = \"New_dataset\"\n",
    "\n",
    "dataset_setting_path = os.path.join(dataset_path, setting)\n",
    "\n",
    "obj_DNA_Encoding = DNA_Encoding"
   ]
  },
  {
   "cell_type": "code",
   "execution_count": null,
   "metadata": {},
   "outputs": [],
   "source": [
    "##################################################################################\n",
    "##### Load Training, Testing and Evaluation datasets\n",
    "##################################################################################\n",
    "\n",
    "## training data for the models\n",
    "train_X = np.load(\"New_Dataset\\\\New_dataset\\\\train_X.npy\")\n",
    "train_y = np.load(\"New_Dataset\\\\New_dataset\\\\train_y.npy\")\n",
    "\n",
    "## validation dataset for the models\n",
    "eval_X = np.load(\"New_Dataset\\\\New_dataset\\\\eval_X.npy\")\n",
    "eval_y = np.load(\"New_Dataset\\\\New_dataset\\\\eval_y.npy\")\n",
    "\n",
    "## testing dataset for the models\n",
    "test_X = np.load(\"New_Dataset\\\\New_dataset\\\\test_X.npy\")\n",
    "test_y = np.load(\"New_Dataset\\\\New_dataset\\\\test_y.npy\")\n",
    "\n",
    "print(\"Training samples:\",train_X.shape[0])\n",
    "print(\"Testing samples:\",test_X.shape[0])\n",
    "print(\"Evaluation samples:\",eval_X.shape[0])\n",
    "\n",
    "print(\"Datapoint shape:\",[train_X.shape[1], train_X.shape[2]])\n",
    "\n",
    "# Data is already one-hot-encoded"
   ]
  },
  {
   "cell_type": "code",
   "execution_count": null,
   "metadata": {},
   "outputs": [],
   "source": []
  }
 ],
 "metadata": {
  "kernelspec": {
   "display_name": "Python 3",
   "language": "python",
   "name": "python3"
  },
  "language_info": {
   "codemirror_mode": {
    "name": "ipython",
    "version": 3
   },
   "file_extension": ".py",
   "mimetype": "text/x-python",
   "name": "python",
   "nbconvert_exporter": "python",
   "pygments_lexer": "ipython3",
   "version": "3.7.4"
  }
 },
 "nbformat": 4,
 "nbformat_minor": 2
}
