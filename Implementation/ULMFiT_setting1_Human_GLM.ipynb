{
 "cells": [
  {
   "cell_type": "markdown",
   "metadata": {},
   "source": [
    "Code colated from:\n",
    "1. Human Genome LM 0 Data Processing\n",
    "https://github.com/kheyer/Genomic-ULMFiT/blob/master/Mammals/Human/Genomic%20Language%20Models/Human%20Genome%20LM%200%20Data%20Processing.ipynb\n",
    "2. Human Genome LM 5 3-mer Stride 1 Language Model\n",
    "https://github.com/kheyer/Genomic-ULMFiT/blob/master/Mammals/Human/Genomic%20Language%20Models/Human%20Genome%20LM%205%203-mer%20Stride%201%20Language%20Model.ipynb"
   ]
  },
  {
   "cell_type": "code",
   "execution_count": 1,
   "metadata": {},
   "outputs": [],
   "source": [
    "from fastai import *\n",
    "from fastai.text import *\n",
    "from Bio import Seq\n",
    "from Bio.Seq import Seq\n",
    "from Bio import SeqIO\n",
    "from Bio.SeqRecord import SeqRecord\n",
    "from Bio.SeqFeature import FeatureLocation, CompoundLocation\n",
    "import networkx as nx"
   ]
  },
  {
   "cell_type": "code",
   "execution_count": 2,
   "metadata": {},
   "outputs": [],
   "source": [
    "import sys\n",
    "sys.path.append(\".\\\\ULMFiT\\\\\")\n",
    "from ULMFiT.utils import *"
   ]
  },
  {
   "cell_type": "markdown",
   "metadata": {},
   "source": [
    "## Human Genome Data Preprocessing\n",
    "\n",
    "#### Genome data from: https://www.ncbi.nlm.nih.gov/assembly/GCF_000001405.39"
   ]
  },
  {
   "cell_type": "code",
   "execution_count": 3,
   "metadata": {},
   "outputs": [],
   "source": [
    "read_path = \"NCBI_Data\\\\genome_assemblies_genome_fasta\\\\ncbi-genomes-2021-03-22\\\\GCF_000001405.39_GRCh38.p13_genomic.fna\"\n",
    "file = \"GCF_000001405.39_GRCh38.p13_genomic.fna\"\n",
    "\n",
    "outPath = \"Generated\"\n",
    "expName = \"ULMFiT_Humans\"\n",
    "exp_path = os.path.join(outPath, expName)\n",
    "if(not os.path.isdir(exp_path)):\n",
    "    os.makedirs(exp_path)\n",
    "\n"
   ]
  },
  {
   "cell_type": "code",
   "execution_count": 4,
   "metadata": {},
   "outputs": [],
   "source": [
    "processed_genome_data = process_fasta(os.path.join(read_path, file), 10000, 2000, filter_txt='NC_')\n",
    "\n",
    "processed_genome_data_df = pd.DataFrame(processed_genome_data, columns=['Sequence'])\n",
    "processed_genome_data_df['Source'] = 'NCBI Human'\n",
    "\n",
    "processed_genome_data_df.to_csv(os.path.join(exp_path, 'human_genome_data_fa.csv'), index=False)"
   ]
  },
  {
   "cell_type": "markdown",
   "metadata": {},
   "source": [
    "## Human Genome Language Model"
   ]
  },
  {
   "cell_type": "code",
   "execution_count": null,
   "metadata": {},
   "outputs": [],
   "source": [
    "df_iter = pd.read_csv(os.path.join(exp_path, 'human_genome_data_fa.csv'), chunksize=180000)\n",
    "df = next(df_iter)\n",
    "df_val = df[:20000]\n",
    "\n",
    "# Define tokenizer object\n",
    "tok = Tokenizer(partial(GenomicTokenizer, ngram=3, stride=1), n_cpus=8, pre_rules=[], post_rules=[], special_cases=['xxpad'])\n",
    "\n",
    "data = GenomicTextLMDataBunch.from_df(exp_path, df[20000:], df_val, bs=800, tokenizer=tok, \n",
    "                                      chunksize=10000, text_cols=0, label_cols=1, max_vocab=80000)"
   ]
  },
  {
   "cell_type": "code",
   "execution_count": null,
   "metadata": {},
   "outputs": [],
   "source": [
    "data"
   ]
  },
  {
   "cell_type": "code",
   "execution_count": null,
   "metadata": {},
   "outputs": [],
   "source": [
    "## define and store the extracted genome vocabulary\n",
    "voc = data.vocab.itos\n",
    "np.save(os.path.join(exp_path, 'human_vocab_3m1s.npy'), voc)"
   ]
  },
  {
   "cell_type": "code",
   "execution_count": null,
   "metadata": {},
   "outputs": [],
   "source": [
    "model_vocab = GenomicVocab(voc)"
   ]
  },
  {
   "cell_type": "code",
   "execution_count": null,
   "metadata": {},
   "outputs": [],
   "source": [
    "config = dict(emb_sz=400, n_hid=1150, n_layers=3, pad_token=0, qrnn=False, output_p=0.25, \n",
    "              hidden_p=0.1, input_p=0.2, embed_p=0.02, weight_p=0.15, tie_weights=True, out_bias=True)\n",
    "drop_mult=0.3"
   ]
  },
  {
   "cell_type": "code",
   "execution_count": null,
   "metadata": {},
   "outputs": [],
   "source": [
    "learn = get_model_LM(data, drop_mult, config)\n",
    "learn = learn.to_fp16(dynamic=True)\n",
    "learn.model"
   ]
  },
  {
   "cell_type": "code",
   "execution_count": null,
   "metadata": {},
   "outputs": [],
   "source": [
    "learn.lr_find()"
   ]
  },
  {
   "cell_type": "code",
   "execution_count": null,
   "metadata": {},
   "outputs": [],
   "source": [
    "learn.recorder.plot()"
   ]
  },
  {
   "cell_type": "code",
   "execution_count": null,
   "metadata": {},
   "outputs": [],
   "source": [
    "learn.fit_one_cycle(2, 5e-3, moms=(0.8, 0.7))"
   ]
  },
  {
   "cell_type": "code",
   "execution_count": null,
   "metadata": {},
   "outputs": [],
   "source": [
    "## saving models\n",
    "learn.save(os.path.join(exp_path, 'human_3m1s'))\n",
    "learn.save_encoder(os.path.join(exp_path, 'human_3m1s_enc'))"
   ]
  },
  {
   "cell_type": "code",
   "execution_count": null,
   "metadata": {},
   "outputs": [],
   "source": [
    "count = 0\n",
    "lr = 5e-3\n",
    "for df in df_iter:\n",
    "    data = GenomicTextLMDataBunch.from_df(path, df, df_val, bs=800, tokenizer=tok, vocab=model_vocab, max_vocab=80000,\n",
    "                                          chunksize=20000, text_cols=0, label_cols=1)\n",
    "    learn.data = data\n",
    "    lr_iter = lr/1.5**count\n",
    "    print(f'Learning Rate: {lr_iter}')\n",
    "    learn.fit_one_cycle(1, lr, moms=(0.8,0.7))\n",
    "    count += 1"
   ]
  },
  {
   "cell_type": "code",
   "execution_count": null,
   "metadata": {},
   "outputs": [],
   "source": [
    "## saving models\n",
    "learn.save(os.path.join(exp_path, 'human_3m1s_2'))\n",
    "learn.save_encoder(os.path.join(exp_path, 'human_3m1s_enc_2'))\n",
    "\n",
    "learn = learn.to_fp32();\n",
    "learn.save(os.path.join(exp_path, 'human_3m1s_2_fp32'))\n",
    "learn.save_encoder(os.path.join(exp_path, 'human_3m1s_enc_2_fp32'))"
   ]
  },
  {
   "cell_type": "code",
   "execution_count": null,
   "metadata": {},
   "outputs": [],
   "source": []
  }
 ],
 "metadata": {
  "kernelspec": {
   "display_name": "Python 3",
   "language": "python",
   "name": "python3"
  },
  "language_info": {
   "codemirror_mode": {
    "name": "ipython",
    "version": 3
   },
   "file_extension": ".py",
   "mimetype": "text/x-python",
   "name": "python",
   "nbconvert_exporter": "python",
   "pygments_lexer": "ipython3",
   "version": "3.7.4"
  }
 },
 "nbformat": 4,
 "nbformat_minor": 5
}
